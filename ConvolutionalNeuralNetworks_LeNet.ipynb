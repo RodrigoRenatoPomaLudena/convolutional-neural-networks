{
  "nbformat": 4,
  "nbformat_minor": 0,
  "metadata": {
    "colab": {
      "provenance": []
    },
    "kernelspec": {
      "name": "python3",
      "display_name": "Python 3"
    },
    "language_info": {
      "name": "python"
    },
    "widgets": {
      "application/vnd.jupyter.widget-state+json": {
        "09de3a50eb40495cb58ac52ab5a65322": {
          "model_module": "@jupyter-widgets/controls",
          "model_name": "HBoxModel",
          "model_module_version": "1.5.0",
          "state": {
            "_dom_classes": [],
            "_model_module": "@jupyter-widgets/controls",
            "_model_module_version": "1.5.0",
            "_model_name": "HBoxModel",
            "_view_count": null,
            "_view_module": "@jupyter-widgets/controls",
            "_view_module_version": "1.5.0",
            "_view_name": "HBoxView",
            "box_style": "",
            "children": [
              "IPY_MODEL_e73dca7d098e477a8714c63cfab4833d",
              "IPY_MODEL_32abe2ab5de2432dbb506c9cbdf91faf",
              "IPY_MODEL_6d1ca077c6b445f2a0e4c1f6255dfb72"
            ],
            "layout": "IPY_MODEL_eb6172dd149d47ffa06987bcc8438766"
          }
        },
        "e73dca7d098e477a8714c63cfab4833d": {
          "model_module": "@jupyter-widgets/controls",
          "model_name": "HTMLModel",
          "model_module_version": "1.5.0",
          "state": {
            "_dom_classes": [],
            "_model_module": "@jupyter-widgets/controls",
            "_model_module_version": "1.5.0",
            "_model_name": "HTMLModel",
            "_view_count": null,
            "_view_module": "@jupyter-widgets/controls",
            "_view_module_version": "1.5.0",
            "_view_name": "HTMLView",
            "description": "",
            "description_tooltip": null,
            "layout": "IPY_MODEL_7efba5553a1347deb376974ff3f93727",
            "placeholder": "​",
            "style": "IPY_MODEL_7346afb33cd341938af8b8e53323dadf",
            "value": "Dl Completed...: 100%"
          }
        },
        "32abe2ab5de2432dbb506c9cbdf91faf": {
          "model_module": "@jupyter-widgets/controls",
          "model_name": "FloatProgressModel",
          "model_module_version": "1.5.0",
          "state": {
            "_dom_classes": [],
            "_model_module": "@jupyter-widgets/controls",
            "_model_module_version": "1.5.0",
            "_model_name": "FloatProgressModel",
            "_view_count": null,
            "_view_module": "@jupyter-widgets/controls",
            "_view_module_version": "1.5.0",
            "_view_name": "ProgressView",
            "bar_style": "success",
            "description": "",
            "description_tooltip": null,
            "layout": "IPY_MODEL_c5990b89c2974a5a81ff522146e1cc7c",
            "max": 5,
            "min": 0,
            "orientation": "horizontal",
            "style": "IPY_MODEL_0db61bdb59e84948b009c243d571cd87",
            "value": 5
          }
        },
        "6d1ca077c6b445f2a0e4c1f6255dfb72": {
          "model_module": "@jupyter-widgets/controls",
          "model_name": "HTMLModel",
          "model_module_version": "1.5.0",
          "state": {
            "_dom_classes": [],
            "_model_module": "@jupyter-widgets/controls",
            "_model_module_version": "1.5.0",
            "_model_name": "HTMLModel",
            "_view_count": null,
            "_view_module": "@jupyter-widgets/controls",
            "_view_module_version": "1.5.0",
            "_view_name": "HTMLView",
            "description": "",
            "description_tooltip": null,
            "layout": "IPY_MODEL_96e5ae551b4b4f0f98f7b15b85a68118",
            "placeholder": "​",
            "style": "IPY_MODEL_d566298ae775438f9780e1a4c3aca889",
            "value": " 5/5 [00:00&lt;00:00,  6.84 file/s]"
          }
        },
        "eb6172dd149d47ffa06987bcc8438766": {
          "model_module": "@jupyter-widgets/base",
          "model_name": "LayoutModel",
          "model_module_version": "1.2.0",
          "state": {
            "_model_module": "@jupyter-widgets/base",
            "_model_module_version": "1.2.0",
            "_model_name": "LayoutModel",
            "_view_count": null,
            "_view_module": "@jupyter-widgets/base",
            "_view_module_version": "1.2.0",
            "_view_name": "LayoutView",
            "align_content": null,
            "align_items": null,
            "align_self": null,
            "border": null,
            "bottom": null,
            "display": null,
            "flex": null,
            "flex_flow": null,
            "grid_area": null,
            "grid_auto_columns": null,
            "grid_auto_flow": null,
            "grid_auto_rows": null,
            "grid_column": null,
            "grid_gap": null,
            "grid_row": null,
            "grid_template_areas": null,
            "grid_template_columns": null,
            "grid_template_rows": null,
            "height": null,
            "justify_content": null,
            "justify_items": null,
            "left": null,
            "margin": null,
            "max_height": null,
            "max_width": null,
            "min_height": null,
            "min_width": null,
            "object_fit": null,
            "object_position": null,
            "order": null,
            "overflow": null,
            "overflow_x": null,
            "overflow_y": null,
            "padding": null,
            "right": null,
            "top": null,
            "visibility": null,
            "width": null
          }
        },
        "7efba5553a1347deb376974ff3f93727": {
          "model_module": "@jupyter-widgets/base",
          "model_name": "LayoutModel",
          "model_module_version": "1.2.0",
          "state": {
            "_model_module": "@jupyter-widgets/base",
            "_model_module_version": "1.2.0",
            "_model_name": "LayoutModel",
            "_view_count": null,
            "_view_module": "@jupyter-widgets/base",
            "_view_module_version": "1.2.0",
            "_view_name": "LayoutView",
            "align_content": null,
            "align_items": null,
            "align_self": null,
            "border": null,
            "bottom": null,
            "display": null,
            "flex": null,
            "flex_flow": null,
            "grid_area": null,
            "grid_auto_columns": null,
            "grid_auto_flow": null,
            "grid_auto_rows": null,
            "grid_column": null,
            "grid_gap": null,
            "grid_row": null,
            "grid_template_areas": null,
            "grid_template_columns": null,
            "grid_template_rows": null,
            "height": null,
            "justify_content": null,
            "justify_items": null,
            "left": null,
            "margin": null,
            "max_height": null,
            "max_width": null,
            "min_height": null,
            "min_width": null,
            "object_fit": null,
            "object_position": null,
            "order": null,
            "overflow": null,
            "overflow_x": null,
            "overflow_y": null,
            "padding": null,
            "right": null,
            "top": null,
            "visibility": null,
            "width": null
          }
        },
        "7346afb33cd341938af8b8e53323dadf": {
          "model_module": "@jupyter-widgets/controls",
          "model_name": "DescriptionStyleModel",
          "model_module_version": "1.5.0",
          "state": {
            "_model_module": "@jupyter-widgets/controls",
            "_model_module_version": "1.5.0",
            "_model_name": "DescriptionStyleModel",
            "_view_count": null,
            "_view_module": "@jupyter-widgets/base",
            "_view_module_version": "1.2.0",
            "_view_name": "StyleView",
            "description_width": ""
          }
        },
        "c5990b89c2974a5a81ff522146e1cc7c": {
          "model_module": "@jupyter-widgets/base",
          "model_name": "LayoutModel",
          "model_module_version": "1.2.0",
          "state": {
            "_model_module": "@jupyter-widgets/base",
            "_model_module_version": "1.2.0",
            "_model_name": "LayoutModel",
            "_view_count": null,
            "_view_module": "@jupyter-widgets/base",
            "_view_module_version": "1.2.0",
            "_view_name": "LayoutView",
            "align_content": null,
            "align_items": null,
            "align_self": null,
            "border": null,
            "bottom": null,
            "display": null,
            "flex": null,
            "flex_flow": null,
            "grid_area": null,
            "grid_auto_columns": null,
            "grid_auto_flow": null,
            "grid_auto_rows": null,
            "grid_column": null,
            "grid_gap": null,
            "grid_row": null,
            "grid_template_areas": null,
            "grid_template_columns": null,
            "grid_template_rows": null,
            "height": null,
            "justify_content": null,
            "justify_items": null,
            "left": null,
            "margin": null,
            "max_height": null,
            "max_width": null,
            "min_height": null,
            "min_width": null,
            "object_fit": null,
            "object_position": null,
            "order": null,
            "overflow": null,
            "overflow_x": null,
            "overflow_y": null,
            "padding": null,
            "right": null,
            "top": null,
            "visibility": null,
            "width": null
          }
        },
        "0db61bdb59e84948b009c243d571cd87": {
          "model_module": "@jupyter-widgets/controls",
          "model_name": "ProgressStyleModel",
          "model_module_version": "1.5.0",
          "state": {
            "_model_module": "@jupyter-widgets/controls",
            "_model_module_version": "1.5.0",
            "_model_name": "ProgressStyleModel",
            "_view_count": null,
            "_view_module": "@jupyter-widgets/base",
            "_view_module_version": "1.2.0",
            "_view_name": "StyleView",
            "bar_color": null,
            "description_width": ""
          }
        },
        "96e5ae551b4b4f0f98f7b15b85a68118": {
          "model_module": "@jupyter-widgets/base",
          "model_name": "LayoutModel",
          "model_module_version": "1.2.0",
          "state": {
            "_model_module": "@jupyter-widgets/base",
            "_model_module_version": "1.2.0",
            "_model_name": "LayoutModel",
            "_view_count": null,
            "_view_module": "@jupyter-widgets/base",
            "_view_module_version": "1.2.0",
            "_view_name": "LayoutView",
            "align_content": null,
            "align_items": null,
            "align_self": null,
            "border": null,
            "bottom": null,
            "display": null,
            "flex": null,
            "flex_flow": null,
            "grid_area": null,
            "grid_auto_columns": null,
            "grid_auto_flow": null,
            "grid_auto_rows": null,
            "grid_column": null,
            "grid_gap": null,
            "grid_row": null,
            "grid_template_areas": null,
            "grid_template_columns": null,
            "grid_template_rows": null,
            "height": null,
            "justify_content": null,
            "justify_items": null,
            "left": null,
            "margin": null,
            "max_height": null,
            "max_width": null,
            "min_height": null,
            "min_width": null,
            "object_fit": null,
            "object_position": null,
            "order": null,
            "overflow": null,
            "overflow_x": null,
            "overflow_y": null,
            "padding": null,
            "right": null,
            "top": null,
            "visibility": null,
            "width": null
          }
        },
        "d566298ae775438f9780e1a4c3aca889": {
          "model_module": "@jupyter-widgets/controls",
          "model_name": "DescriptionStyleModel",
          "model_module_version": "1.5.0",
          "state": {
            "_model_module": "@jupyter-widgets/controls",
            "_model_module_version": "1.5.0",
            "_model_name": "DescriptionStyleModel",
            "_view_count": null,
            "_view_module": "@jupyter-widgets/base",
            "_view_module_version": "1.2.0",
            "_view_name": "StyleView",
            "description_width": ""
          }
        }
      }
    }
  },
  "cells": [
    {
      "cell_type": "markdown",
      "source": [
        "# Step 1: Using Build a CNN — experiment with Fashion-MNIST"
      ],
      "metadata": {
        "id": "8RaKS1Wj7sIf"
      }
    },
    {
      "cell_type": "markdown",
      "source": [
        "- Tip: use early stopping in the validation set\n",
        "- Tip: use the pipeline mentioned in https://www.tensorflow.org/datasets/keras_example"
      ],
      "metadata": {
        "id": "Ok6-ftXF8Y6P"
      }
    },
    {
      "cell_type": "markdown",
      "source": [
        "## Step 1.1: Load the libraries and the fashion mnist dataset."
      ],
      "metadata": {
        "id": "Woak6Ht18dDy"
      }
    },
    {
      "cell_type": "code",
      "source": [
        "import matplotlib.pyplot as plt\n",
        "import numpy as np\n",
        "import pandas as pd\n",
        "import pickle\n",
        "import tensorflow as tf\n",
        "import tensorflow_datasets as tfds\n",
        "\n",
        "from tensorflow import keras\n",
        "from keras import activations\n",
        "from keras import backend as K"
      ],
      "metadata": {
        "id": "tAc2Lv6H8iDa"
      },
      "execution_count": null,
      "outputs": []
    },
    {
      "cell_type": "code",
      "source": [
        "# Load data\n",
        "(ds_train, ds_test), ds_info = tfds.load(\n",
        "    'mnist',\n",
        "    split=['train', 'test'],\n",
        "    shuffle_files=True,\n",
        "    as_supervised=True,\n",
        "    with_info=True,\n",
        ")"
      ],
      "metadata": {
        "id": "RkOQm6nF8nTm",
        "colab": {
          "base_uri": "https://localhost:8080/",
          "height": 85,
          "referenced_widgets": [
            "09de3a50eb40495cb58ac52ab5a65322",
            "e73dca7d098e477a8714c63cfab4833d",
            "32abe2ab5de2432dbb506c9cbdf91faf",
            "6d1ca077c6b445f2a0e4c1f6255dfb72",
            "eb6172dd149d47ffa06987bcc8438766",
            "7efba5553a1347deb376974ff3f93727",
            "7346afb33cd341938af8b8e53323dadf",
            "c5990b89c2974a5a81ff522146e1cc7c",
            "0db61bdb59e84948b009c243d571cd87",
            "96e5ae551b4b4f0f98f7b15b85a68118",
            "d566298ae775438f9780e1a4c3aca889"
          ]
        },
        "outputId": "c7857ead-3ae5-4e2c-b7bd-f8f114c3af1f"
      },
      "execution_count": null,
      "outputs": [
        {
          "output_type": "stream",
          "name": "stdout",
          "text": [
            "Downloading and preparing dataset 11.06 MiB (download: 11.06 MiB, generated: 21.00 MiB, total: 32.06 MiB) to ~/tensorflow_datasets/mnist/3.0.1...\n"
          ]
        },
        {
          "output_type": "display_data",
          "data": {
            "text/plain": [
              "Dl Completed...:   0%|          | 0/5 [00:00<?, ? file/s]"
            ],
            "application/vnd.jupyter.widget-view+json": {
              "version_major": 2,
              "version_minor": 0,
              "model_id": "09de3a50eb40495cb58ac52ab5a65322"
            }
          },
          "metadata": {}
        },
        {
          "output_type": "stream",
          "name": "stdout",
          "text": [
            "Dataset mnist downloaded and prepared to ~/tensorflow_datasets/mnist/3.0.1. Subsequent calls will reuse this data.\n"
          ]
        }
      ]
    },
    {
      "cell_type": "markdown",
      "source": [
        "## Step 1.2: Separate and normalize the training and evaluation data."
      ],
      "metadata": {
        "id": "KmzsLKgX-S92"
      }
    },
    {
      "cell_type": "code",
      "source": [
        "# Normalizing training data\n",
        "\n",
        "#Normalizes images: uint8 -> float32\n",
        "def normalize_img(image, label):\n",
        "  return tf.cast(image, tf.float32) / 255., label\n",
        "\n",
        "ds_train = ds_train.map(\n",
        "    normalize_img, num_parallel_calls=tf.data.AUTOTUNE)\n",
        "ds_train = ds_train.cache()\n",
        "ds_train = ds_train.shuffle(ds_info.splits['train'].num_examples)\n",
        "ds_train = ds_train.batch(128)\n",
        "ds_train = ds_train.prefetch(tf.data.AUTOTUNE)"
      ],
      "metadata": {
        "id": "pIy3fWQK9XvA"
      },
      "execution_count": null,
      "outputs": []
    },
    {
      "cell_type": "code",
      "source": [
        "# Defining testing data\n",
        "ds_test = ds_test.map(\n",
        "    normalize_img, num_parallel_calls=tf.data.AUTOTUNE)\n",
        "ds_test = ds_test.batch(128)\n",
        "ds_test = ds_test.cache()\n",
        "ds_test = ds_test.prefetch(tf.data.AUTOTUNE)"
      ],
      "metadata": {
        "id": "E8z1c7Tm9uEu"
      },
      "execution_count": null,
      "outputs": []
    },
    {
      "cell_type": "markdown",
      "source": [
        "## Step 1.3: Create and train the model."
      ],
      "metadata": {
        "id": "Ezk-HNxj-YaE"
      }
    },
    {
      "cell_type": "code",
      "source": [
        "# Create\n",
        "# LeNET5\n",
        "model = tf.keras.models.Sequential([\n",
        "  # convolutional and pooling network \n",
        "  tf.keras.layers.Conv2D(6, 5, padding = 'same',  activation = 'relu', input_shape = [28, 28, 1]),\n",
        "  tf.keras.layers.AveragePooling2D(2),\n",
        "  # convolutional and pooling network \n",
        "  tf.keras.layers.Conv2D(16, 5, padding = 'same',  activation = 'relu'),\n",
        "  tf.keras.layers.AveragePooling2D(2),\n",
        "  # convolutional network \n",
        "  tf.keras.layers.Conv2D(120, 5, padding = 'same',  activation = 'relu'),\n",
        "  tf.keras.layers.Flatten(),\n",
        "  # multi layer perceptron - MLP\n",
        "  tf.keras.layers.Dense(84, activation=\"relu\"),\n",
        "  tf.keras.layers.Dense(10)\n",
        "])\n",
        "model.summary()"
      ],
      "metadata": {
        "id": "K4IMU94i-YIV",
        "colab": {
          "base_uri": "https://localhost:8080/"
        },
        "outputId": "6e6f4c29-a86a-4c02-c903-eed1d80b18c3"
      },
      "execution_count": null,
      "outputs": [
        {
          "output_type": "stream",
          "name": "stdout",
          "text": [
            "Model: \"sequential\"\n",
            "_________________________________________________________________\n",
            " Layer (type)                Output Shape              Param #   \n",
            "=================================================================\n",
            " conv2d (Conv2D)             (None, 28, 28, 6)         156       \n",
            "                                                                 \n",
            " average_pooling2d (AverageP  (None, 14, 14, 6)        0         \n",
            " ooling2D)                                                       \n",
            "                                                                 \n",
            " conv2d_1 (Conv2D)           (None, 14, 14, 16)        2416      \n",
            "                                                                 \n",
            " average_pooling2d_1 (Averag  (None, 7, 7, 16)         0         \n",
            " ePooling2D)                                                     \n",
            "                                                                 \n",
            " conv2d_2 (Conv2D)           (None, 7, 7, 120)         48120     \n",
            "                                                                 \n",
            " flatten (Flatten)           (None, 5880)              0         \n",
            "                                                                 \n",
            " dense (Dense)               (None, 84)                494004    \n",
            "                                                                 \n",
            " dense_1 (Dense)             (None, 10)                850       \n",
            "                                                                 \n",
            "=================================================================\n",
            "Total params: 545,546\n",
            "Trainable params: 545,546\n",
            "Non-trainable params: 0\n",
            "_________________________________________________________________\n"
          ]
        }
      ]
    },
    {
      "cell_type": "code",
      "source": [
        "# Compile\n",
        "optimizer = tf.keras.optimizers.SGD(learning_rate=0.01) #tf.keras.optimizers.Adam(0.001)\n",
        "loss = tf.keras.losses.SparseCategoricalCrossentropy(from_logits=True)\n",
        "metrics = tf.keras.metrics.SparseCategoricalAccuracy() #tf.keras.metrics.Accuracy()\n",
        "\n",
        "model.compile(\n",
        "    optimizer=optimizer,\n",
        "    loss=loss,\n",
        "    metrics=metrics,\n",
        ")"
      ],
      "metadata": {
        "id": "fZtzR3be-rrp"
      },
      "execution_count": null,
      "outputs": []
    },
    {
      "cell_type": "code",
      "source": [
        "# Training\n",
        "epochs = 100\n",
        "early_stopping_cb = keras.callbacks.EarlyStopping(patience=10,\n",
        "                                                  restore_best_weights=True)\n",
        "callbacks = [early_stopping_cb]\n",
        "\n",
        "history = model.fit(\n",
        "    ds_train,\n",
        "    epochs=epochs,\n",
        "    validation_data=ds_test,\n",
        "    callbacks = callbacks\n",
        ")"
      ],
      "metadata": {
        "colab": {
          "base_uri": "https://localhost:8080/"
        },
        "id": "oEfemnb3-vPq",
        "outputId": "60e3732a-6ccf-426e-9535-8a5529aebc1d"
      },
      "execution_count": null,
      "outputs": [
        {
          "output_type": "stream",
          "name": "stdout",
          "text": [
            "Epoch 1/100\n",
            "469/469 [==============================] - 86s 162ms/step - loss: 1.2864 - sparse_categorical_accuracy: 0.6550 - val_loss: 0.4192 - val_sparse_categorical_accuracy: 0.8732\n",
            "Epoch 2/100\n",
            "469/469 [==============================] - 66s 140ms/step - loss: 0.3377 - sparse_categorical_accuracy: 0.8983 - val_loss: 0.2761 - val_sparse_categorical_accuracy: 0.9123\n",
            "Epoch 3/100\n",
            "469/469 [==============================] - 65s 138ms/step - loss: 0.2509 - sparse_categorical_accuracy: 0.9238 - val_loss: 0.2073 - val_sparse_categorical_accuracy: 0.9365\n",
            "Epoch 4/100\n",
            "469/469 [==============================] - 64s 136ms/step - loss: 0.2041 - sparse_categorical_accuracy: 0.9380 - val_loss: 0.1708 - val_sparse_categorical_accuracy: 0.9503\n",
            "Epoch 5/100\n",
            "469/469 [==============================] - 65s 139ms/step - loss: 0.1730 - sparse_categorical_accuracy: 0.9484 - val_loss: 0.1457 - val_sparse_categorical_accuracy: 0.9567\n",
            "Epoch 6/100\n",
            "469/469 [==============================] - 64s 137ms/step - loss: 0.1506 - sparse_categorical_accuracy: 0.9538 - val_loss: 0.1316 - val_sparse_categorical_accuracy: 0.9613\n",
            "Epoch 7/100\n",
            "469/469 [==============================] - 66s 140ms/step - loss: 0.1335 - sparse_categorical_accuracy: 0.9594 - val_loss: 0.1142 - val_sparse_categorical_accuracy: 0.9650\n",
            "Epoch 8/100\n",
            "469/469 [==============================] - 64s 136ms/step - loss: 0.1190 - sparse_categorical_accuracy: 0.9641 - val_loss: 0.1162 - val_sparse_categorical_accuracy: 0.9648\n",
            "Epoch 9/100\n",
            "469/469 [==============================] - 66s 140ms/step - loss: 0.1074 - sparse_categorical_accuracy: 0.9675 - val_loss: 0.0980 - val_sparse_categorical_accuracy: 0.9694\n",
            "Epoch 10/100\n",
            "469/469 [==============================] - 64s 136ms/step - loss: 0.0978 - sparse_categorical_accuracy: 0.9705 - val_loss: 0.0935 - val_sparse_categorical_accuracy: 0.9699\n",
            "Epoch 11/100\n",
            "469/469 [==============================] - 65s 138ms/step - loss: 0.0910 - sparse_categorical_accuracy: 0.9722 - val_loss: 0.0943 - val_sparse_categorical_accuracy: 0.9693\n",
            "Epoch 12/100\n",
            "469/469 [==============================] - 64s 137ms/step - loss: 0.0849 - sparse_categorical_accuracy: 0.9736 - val_loss: 0.0850 - val_sparse_categorical_accuracy: 0.9719\n",
            "Epoch 13/100\n",
            "469/469 [==============================] - 65s 138ms/step - loss: 0.0788 - sparse_categorical_accuracy: 0.9762 - val_loss: 0.0857 - val_sparse_categorical_accuracy: 0.9723\n",
            "Epoch 14/100\n",
            "469/469 [==============================] - 63s 135ms/step - loss: 0.0743 - sparse_categorical_accuracy: 0.9775 - val_loss: 0.0753 - val_sparse_categorical_accuracy: 0.9747\n",
            "Epoch 15/100\n",
            "469/469 [==============================] - 65s 139ms/step - loss: 0.0693 - sparse_categorical_accuracy: 0.9787 - val_loss: 0.0718 - val_sparse_categorical_accuracy: 0.9780\n",
            "Epoch 16/100\n",
            "469/469 [==============================] - 64s 137ms/step - loss: 0.0663 - sparse_categorical_accuracy: 0.9794 - val_loss: 0.0685 - val_sparse_categorical_accuracy: 0.9783\n",
            "Epoch 17/100\n",
            "469/469 [==============================] - 65s 138ms/step - loss: 0.0622 - sparse_categorical_accuracy: 0.9809 - val_loss: 0.0698 - val_sparse_categorical_accuracy: 0.9753\n",
            "Epoch 18/100\n",
            "469/469 [==============================] - 63s 135ms/step - loss: 0.0594 - sparse_categorical_accuracy: 0.9816 - val_loss: 0.0700 - val_sparse_categorical_accuracy: 0.9774\n",
            "Epoch 19/100\n",
            "469/469 [==============================] - 64s 136ms/step - loss: 0.0560 - sparse_categorical_accuracy: 0.9828 - val_loss: 0.0642 - val_sparse_categorical_accuracy: 0.9789\n",
            "Epoch 20/100\n",
            "469/469 [==============================] - 64s 137ms/step - loss: 0.0535 - sparse_categorical_accuracy: 0.9836 - val_loss: 0.0627 - val_sparse_categorical_accuracy: 0.9789\n",
            "Epoch 21/100\n",
            "469/469 [==============================] - 63s 135ms/step - loss: 0.0514 - sparse_categorical_accuracy: 0.9845 - val_loss: 0.0610 - val_sparse_categorical_accuracy: 0.9795\n",
            "Epoch 22/100\n",
            "469/469 [==============================] - 64s 137ms/step - loss: 0.0491 - sparse_categorical_accuracy: 0.9848 - val_loss: 0.0590 - val_sparse_categorical_accuracy: 0.9801\n",
            "Epoch 23/100\n",
            "469/469 [==============================] - 64s 137ms/step - loss: 0.0466 - sparse_categorical_accuracy: 0.9859 - val_loss: 0.0558 - val_sparse_categorical_accuracy: 0.9810\n",
            "Epoch 24/100\n",
            "469/469 [==============================] - 65s 139ms/step - loss: 0.0449 - sparse_categorical_accuracy: 0.9861 - val_loss: 0.0563 - val_sparse_categorical_accuracy: 0.9804\n",
            "Epoch 25/100\n",
            "469/469 [==============================] - 63s 135ms/step - loss: 0.0431 - sparse_categorical_accuracy: 0.9872 - val_loss: 0.0618 - val_sparse_categorical_accuracy: 0.9803\n",
            "Epoch 26/100\n",
            "469/469 [==============================] - 65s 139ms/step - loss: 0.0412 - sparse_categorical_accuracy: 0.9873 - val_loss: 0.0572 - val_sparse_categorical_accuracy: 0.9817\n",
            "Epoch 27/100\n",
            "469/469 [==============================] - 65s 138ms/step - loss: 0.0398 - sparse_categorical_accuracy: 0.9879 - val_loss: 0.0558 - val_sparse_categorical_accuracy: 0.9818\n",
            "Epoch 28/100\n",
            "469/469 [==============================] - 65s 138ms/step - loss: 0.0387 - sparse_categorical_accuracy: 0.9878 - val_loss: 0.0524 - val_sparse_categorical_accuracy: 0.9831\n",
            "Epoch 29/100\n",
            "469/469 [==============================] - 64s 136ms/step - loss: 0.0359 - sparse_categorical_accuracy: 0.9891 - val_loss: 0.0509 - val_sparse_categorical_accuracy: 0.9827\n",
            "Epoch 30/100\n",
            "469/469 [==============================] - 64s 136ms/step - loss: 0.0352 - sparse_categorical_accuracy: 0.9889 - val_loss: 0.0538 - val_sparse_categorical_accuracy: 0.9836\n",
            "Epoch 31/100\n",
            "469/469 [==============================] - 63s 135ms/step - loss: 0.0340 - sparse_categorical_accuracy: 0.9894 - val_loss: 0.0549 - val_sparse_categorical_accuracy: 0.9828\n",
            "Epoch 32/100\n",
            "469/469 [==============================] - 66s 140ms/step - loss: 0.0329 - sparse_categorical_accuracy: 0.9894 - val_loss: 0.0495 - val_sparse_categorical_accuracy: 0.9840\n",
            "Epoch 33/100\n",
            "469/469 [==============================] - 64s 137ms/step - loss: 0.0318 - sparse_categorical_accuracy: 0.9898 - val_loss: 0.0530 - val_sparse_categorical_accuracy: 0.9826\n",
            "Epoch 34/100\n",
            "469/469 [==============================] - 65s 139ms/step - loss: 0.0303 - sparse_categorical_accuracy: 0.9905 - val_loss: 0.0499 - val_sparse_categorical_accuracy: 0.9839\n",
            "Epoch 35/100\n",
            "469/469 [==============================] - 64s 136ms/step - loss: 0.0292 - sparse_categorical_accuracy: 0.9911 - val_loss: 0.0452 - val_sparse_categorical_accuracy: 0.9860\n",
            "Epoch 36/100\n",
            "469/469 [==============================] - 66s 140ms/step - loss: 0.0280 - sparse_categorical_accuracy: 0.9914 - val_loss: 0.0509 - val_sparse_categorical_accuracy: 0.9845\n",
            "Epoch 37/100\n",
            "469/469 [==============================] - 64s 137ms/step - loss: 0.0271 - sparse_categorical_accuracy: 0.9916 - val_loss: 0.0524 - val_sparse_categorical_accuracy: 0.9843\n",
            "Epoch 38/100\n",
            "469/469 [==============================] - 65s 137ms/step - loss: 0.0264 - sparse_categorical_accuracy: 0.9916 - val_loss: 0.0598 - val_sparse_categorical_accuracy: 0.9811\n",
            "Epoch 39/100\n",
            "469/469 [==============================] - 64s 137ms/step - loss: 0.0249 - sparse_categorical_accuracy: 0.9922 - val_loss: 0.0495 - val_sparse_categorical_accuracy: 0.9849\n",
            "Epoch 40/100\n",
            "469/469 [==============================] - 66s 141ms/step - loss: 0.0239 - sparse_categorical_accuracy: 0.9930 - val_loss: 0.0528 - val_sparse_categorical_accuracy: 0.9842\n",
            "Epoch 41/100\n",
            "469/469 [==============================] - 65s 139ms/step - loss: 0.0235 - sparse_categorical_accuracy: 0.9928 - val_loss: 0.0507 - val_sparse_categorical_accuracy: 0.9842\n",
            "Epoch 42/100\n",
            "469/469 [==============================] - 65s 138ms/step - loss: 0.0224 - sparse_categorical_accuracy: 0.9928 - val_loss: 0.0500 - val_sparse_categorical_accuracy: 0.9844\n",
            "Epoch 43/100\n",
            "469/469 [==============================] - 65s 138ms/step - loss: 0.0219 - sparse_categorical_accuracy: 0.9932 - val_loss: 0.0482 - val_sparse_categorical_accuracy: 0.9846\n",
            "Epoch 44/100\n",
            "469/469 [==============================] - 64s 137ms/step - loss: 0.0211 - sparse_categorical_accuracy: 0.9932 - val_loss: 0.0482 - val_sparse_categorical_accuracy: 0.9837\n",
            "Epoch 45/100\n",
            "469/469 [==============================] - 67s 143ms/step - loss: 0.0202 - sparse_categorical_accuracy: 0.9937 - val_loss: 0.0632 - val_sparse_categorical_accuracy: 0.9819\n"
          ]
        }
      ]
    },
    {
      "cell_type": "markdown",
      "source": [
        "## Step 1.4: Evaluate and save model.\n",
        "\n"
      ],
      "metadata": {
        "id": "bbyKujKQ_6l6"
      }
    },
    {
      "cell_type": "code",
      "source": [
        "# Evaluate\n",
        "test = model.evaluate(ds_test)"
      ],
      "metadata": {
        "colab": {
          "base_uri": "https://localhost:8080/"
        },
        "id": "13310wUN_pxA",
        "outputId": "730d1398-28f7-4289-8dd5-9a792f4ef921"
      },
      "execution_count": null,
      "outputs": [
        {
          "output_type": "stream",
          "name": "stdout",
          "text": [
            "79/79 [==============================] - 4s 48ms/step - loss: 0.0452 - sparse_categorical_accuracy: 0.9860\n"
          ]
        }
      ]
    },
    {
      "cell_type": "code",
      "source": [
        "# Save model\n",
        "model_name = \"conv_model.h5\"\n",
        "model.save(model_name)\n",
        "\n",
        "# Save history\n",
        "with open('conv_model.pickle', 'wb') as f:\n",
        "    pickle.dump(history, f)"
      ],
      "metadata": {
        "id": "x77cEyDX_ySV",
        "colab": {
          "base_uri": "https://localhost:8080/"
        },
        "outputId": "f29ee75c-1520-4528-b330-c18e901dd53f"
      },
      "execution_count": null,
      "outputs": [
        {
          "output_type": "stream",
          "name": "stderr",
          "text": [
            "WARNING:absl:Found untraced functions such as _jit_compiled_convolution_op, _jit_compiled_convolution_op, _jit_compiled_convolution_op while saving (showing 3 of 3). These functions will not be directly callable after loading.\n"
          ]
        }
      ]
    },
    {
      "cell_type": "markdown",
      "source": [
        "# Step 2: Plot learning curves (loss, validation loss)"
      ],
      "metadata": {
        "id": "IfJKr9JI8AWr"
      }
    },
    {
      "cell_type": "code",
      "source": [
        "pd.DataFrame(history.history).plot(figsize=(8, 5))\n",
        "plt.grid(True)\n",
        "plt.gca().set_ylim(0, 1)\n",
        "plt.show()"
      ],
      "metadata": {
        "colab": {
          "base_uri": "https://localhost:8080/"
        },
        "id": "EnWXpnt8_ndU",
        "outputId": "f354ab66-6de6-414e-d17a-97587dc2c99f"
      },
      "execution_count": null,
      "outputs": [
        {
          "output_type": "display_data",
          "data": {
            "text/plain": [
              "<Figure size 576x360 with 1 Axes>"
            ],
            "image/png": "[encoded data removed]"
          },
          "metadata": {
            "needs_background": "light"
          }
        }
      ]
    },
    {
      "cell_type": "markdown",
      "source": [
        "# Step 3: Report the error in the test set"
      ],
      "metadata": {
        "id": "y3YBuFg78JeM"
      }
    },
    {
      "cell_type": "code",
      "source": [
        "get_percentage_str = lambda x: str(round(x*100,4))\n",
        "print(\"Accuracy of the test set is {}%\".format(get_percentage_str(test[1])))\n",
        "print(\"Error of the test set is {}%\".format(get_percentage_str(test[0])))"
      ],
      "metadata": {
        "colab": {
          "base_uri": "https://localhost:8080/"
        },
        "id": "MJ7XG_ft7rVr",
        "outputId": "f520f494-e591-437d-a6de-ee0ed28c6118"
      },
      "execution_count": null,
      "outputs": [
        {
          "output_type": "stream",
          "name": "stdout",
          "text": [
            "Accuracy of the test set is 98.6%\n",
            "Error of the test set is 4.516%\n"
          ]
        }
      ]
    }
  ]
}