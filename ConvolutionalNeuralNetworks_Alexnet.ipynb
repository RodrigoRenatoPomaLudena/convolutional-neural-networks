{
  "cells": [
    {
      "cell_type": "markdown",
      "metadata": {
        "id": "8RaKS1Wj7sIf"
      },
      "source": [
        "# Step 1: Using Build a CNN — experiment with Fashion-MNIST"
      ]
    },
    {
      "cell_type": "markdown",
      "metadata": {
        "id": "Ok6-ftXF8Y6P"
      },
      "source": [
        "- Tip: use early stopping in the validation set\n",
        "- Tip: use the pipeline mentioned in https://www.tensorflow.org/datasets/keras_example"
      ]
    },
    {
      "cell_type": "markdown",
      "metadata": {
        "id": "Woak6Ht18dDy"
      },
      "source": [
        "## Step 1.1: Load the libraries and the fashion mnist dataset."
      ]
    },
    {
      "cell_type": "code",
      "execution_count": null,
      "metadata": {
        "id": "tAc2Lv6H8iDa"
      },
      "outputs": [],
      "source": [
        "import matplotlib.pyplot as plt\n",
        "import numpy as np\n",
        "import pandas as pd\n",
        "import pickle\n",
        "import tensorflow as tf\n",
        "import tensorflow_datasets as tfds\n",
        "\n",
        "from tensorflow import keras\n",
        "from keras import activations, datasets, layers, models, losses"
      ]
    },
    {
      "cell_type": "code",
      "execution_count": 2,
      "metadata": {
        "id": "RkOQm6nF8nTm"
      },
      "outputs": [
        {
          "name": "stdout",
          "output_type": "stream",
          "text": [
            "Downloading data from https://storage.googleapis.com/tensorflow/tf-keras-datasets/mnist.npz\n",
            "11490434/11490434 [==============================] - 1s 0us/step\n"
          ]
        }
      ],
      "source": [
        "# Load data\n",
        "(x_train,y_train),(x_test,y_test) = datasets.mnist.load_data()"
      ]
    },
    {
      "cell_type": "markdown",
      "metadata": {
        "id": "KmzsLKgX-S92"
      },
      "source": [
        "## Step 1.2: Separate and normalize the training and evaluation data."
      ]
    },
    {
      "cell_type": "code",
      "execution_count": 3,
      "metadata": {
        "id": "pIy3fWQK9XvA"
      },
      "outputs": [
        {
          "name": "stderr",
          "output_type": "stream",
          "text": [
            "2022-12-25 13:00:05.124100: W tensorflow/compiler/xla/stream_executor/platform/default/dso_loader.cc:64] Could not load dynamic library 'libcuda.so.1'; dlerror: libcuda.so.1: cannot open shared object file: No such file or directory\n",
            "2022-12-25 13:00:05.124164: W tensorflow/compiler/xla/stream_executor/cuda/cuda_driver.cc:265] failed call to cuInit: UNKNOWN ERROR (303)\n",
            "2022-12-25 13:00:05.124211: I tensorflow/compiler/xla/stream_executor/cuda/cuda_diagnostics.cc:156] kernel driver does not appear to be running on this host (prod02): /proc/driver/nvidia/version does not exist\n",
            "2022-12-25 13:00:05.124847: I tensorflow/core/platform/cpu_feature_guard.cc:193] This TensorFlow binary is optimized with oneAPI Deep Neural Network Library (oneDNN) to use the following CPU instructions in performance-critical operations:  AVX2 AVX512F FMA\n",
            "To enable them in other operations, rebuild TensorFlow with the appropriate compiler flags.\n"
          ]
        }
      ],
      "source": [
        "# Normalize training data / 255\n",
        "x_train = tf.pad(x_train, [[0, 0], [2,2], [2,2]])/255\n",
        "x_test = tf.pad(x_test, [[0, 0], [2,2], [2,2]])/255\n",
        "# \n",
        "# Expand training test dimentions for alexnet by repeating data\n",
        "x_train = tf.expand_dims(x_train, axis=3, name=None)\n",
        "x_test = tf.expand_dims(x_test, axis=3, name=None)\n",
        "x_train = tf.repeat(x_train, 3, axis=3)\n",
        "x_test = tf.repeat(x_test, 3, axis=3)\n",
        "\n",
        "# Separating training and evaluation data\n",
        "x_val = x_train[-2000:,:,:,:]\n",
        "y_val = y_train[-2000:]\n",
        "x_train = x_train[:-2000,:,:,:]\n",
        "y_train = y_train[:-2000]"
      ]
    },
    {
      "cell_type": "markdown",
      "metadata": {
        "id": "Ezk-HNxj-YaE"
      },
      "source": [
        "## Step 1.3: Create and train the model."
      ]
    },
    {
      "cell_type": "code",
      "execution_count": 4,
      "metadata": {
        "colab": {
          "base_uri": "https://localhost:8080/"
        },
        "id": "K4IMU94i-YIV",
        "outputId": "1c047d30-9f86-43f6-dd17-42a474ecaae8"
      },
      "outputs": [
        {
          "name": "stdout",
          "output_type": "stream",
          "text": [
            "Model: \"sequential\"\n",
            "_________________________________________________________________\n",
            " Layer (type)                Output Shape              Param #   \n",
            "=================================================================\n",
            " resizing (Resizing)         (None, 224, 224, 3)       0         \n",
            "                                                                 \n",
            " conv2d (Conv2D)             (None, 56, 56, 96)        34944     \n",
            "                                                                 \n",
            " lambda (Lambda)             (None, 56, 56, 96)        0         \n",
            "                                                                 \n",
            " activation (Activation)     (None, 56, 56, 96)        0         \n",
            "                                                                 \n",
            " max_pooling2d (MaxPooling2D  (None, 27, 27, 96)       0         \n",
            " )                                                               \n",
            "                                                                 \n",
            " conv2d_1 (Conv2D)           (None, 7, 7, 256)         614656    \n",
            "                                                                 \n",
            " lambda_1 (Lambda)           (None, 7, 7, 256)         0         \n",
            "                                                                 \n",
            " activation_1 (Activation)   (None, 7, 7, 256)         0         \n",
            "                                                                 \n",
            " max_pooling2d_1 (MaxPooling  (None, 3, 3, 256)        0         \n",
            " 2D)                                                             \n",
            "                                                                 \n",
            " conv2d_2 (Conv2D)           (None, 1, 1, 384)         885120    \n",
            "                                                                 \n",
            " activation_2 (Activation)   (None, 1, 1, 384)         0         \n",
            "                                                                 \n",
            " conv2d_3 (Conv2D)           (None, 1, 1, 384)         1327488   \n",
            "                                                                 \n",
            " activation_3 (Activation)   (None, 1, 1, 384)         0         \n",
            "                                                                 \n",
            " conv2d_4 (Conv2D)           (None, 1, 1, 256)         884992    \n",
            "                                                                 \n",
            " activation_4 (Activation)   (None, 1, 1, 256)         0         \n",
            "                                                                 \n",
            " flatten (Flatten)           (None, 256)               0         \n",
            "                                                                 \n",
            " dense (Dense)               (None, 4096)              1052672   \n",
            "                                                                 \n",
            " dropout (Dropout)           (None, 4096)              0         \n",
            "                                                                 \n",
            " dense_1 (Dense)             (None, 4096)              16781312  \n",
            "                                                                 \n",
            " dropout_1 (Dropout)         (None, 4096)              0         \n",
            "                                                                 \n",
            " dense_2 (Dense)             (None, 10)                40970     \n",
            "                                                                 \n",
            "=================================================================\n",
            "Total params: 21,622,154\n",
            "Trainable params: 21,622,154\n",
            "Non-trainable params: 0\n",
            "_________________________________________________________________\n"
          ]
        }
      ],
      "source": [
        "# Create model Alexnet\n",
        "model = tf.keras.models.Sequential([\n",
        "  tf.keras.layers.experimental.preprocessing.Resizing(224, 224, interpolation=\"bilinear\", input_shape=x_train.shape[1:]),\n",
        "\n",
        "  tf.keras.layers.Conv2D(96, 11, strides=4, padding='same'),\n",
        "  tf.keras.layers.Lambda(tf.nn.local_response_normalization),\n",
        "  tf.keras.layers.Activation('relu'),\n",
        "  tf.keras.layers.MaxPooling2D(3, strides=2),\n",
        "\n",
        "  tf.keras.layers.Conv2D(256, 5, strides=4, padding='same'),\n",
        "  tf.keras.layers.Lambda(tf.nn.local_response_normalization),\n",
        "  tf.keras.layers.Activation('relu'),\n",
        "  tf.keras.layers.MaxPooling2D(3, strides=2),\n",
        "\n",
        "  tf.keras.layers.Conv2D(384, 3, strides=4, padding='same'),\n",
        "  tf.keras.layers.Activation('relu'),\n",
        "\n",
        "  tf.keras.layers.Conv2D(384, 3, strides=4, padding='same'),\n",
        "  tf.keras.layers.Activation('relu'),\n",
        "\n",
        "  tf.keras.layers.Conv2D(256, 3, strides=4, padding='same'),\n",
        "  tf.keras.layers.Activation('relu'),\n",
        "\n",
        "  tf.keras.layers.Flatten(),\n",
        "  tf.keras.layers.Dense(4096, activation='relu'),\n",
        "  tf.keras.layers.Dropout(0.5),\n",
        "\n",
        "  tf.keras.layers.Dense(4096, activation='relu'),\n",
        "  tf.keras.layers.Dropout(0.5),\n",
        "  \n",
        "  tf.keras.layers.Dense(10, activation='softmax')\n",
        "])\n",
        "model.summary()"
      ]
    },
    {
      "cell_type": "code",
      "execution_count": 5,
      "metadata": {
        "id": "fZtzR3be-rrp"
      },
      "outputs": [],
      "source": [
        "# Compile\n",
        "optimizer = 'adam'\n",
        "loss = losses.sparse_categorical_crossentropy\n",
        "metrics = ['accuracy']\n",
        "\n",
        "model.compile(\n",
        "    optimizer=optimizer,\n",
        "    loss=loss,\n",
        "    metrics=metrics,\n",
        ")"
      ]
    },
    {
      "cell_type": "code",
      "execution_count": 6,
      "metadata": {
        "id": "oEfemnb3-vPq"
      },
      "outputs": [],
      "source": [
        "# Training\n",
        "batch_size=64\n",
        "epochs=40\n",
        "\n",
        "# history = model.fit(\n",
        "#     x_train, y_train, \n",
        "#     batch_size=batch_size, \n",
        "#     epochs=epochs, \n",
        "#     validation_data=(x_val, y_val)\n",
        "# )"
      ]
    },
    {
      "cell_type": "markdown",
      "metadata": {
        "id": "1cqwbe3qB04_"
      },
      "source": [
        "The model was trained in a local server with high resources:\n",
        "- ram: 200 GB\n",
        "- cpus: 60 cores\n",
        "\n",
        "So, instead of running the training process, I will upload the model and the history training pickle into variables."
      ]
    },
    {
      "cell_type": "code",
      "execution_count": 9,
      "metadata": {
        "colab": {
          "base_uri": "https://localhost:8080/"
        },
        "id": "SBMle3kjCD4d",
        "outputId": "f0feba59-2553-4483-b354-74f53a1064d0"
      },
      "outputs": [
        {
          "name": "stdout",
          "output_type": "stream",
          "text": [
            "Model: \"sequential\"\n",
            "_________________________________________________________________\n",
            " Layer (type)                Output Shape              Param #   \n",
            "=================================================================\n",
            " resizing (Resizing)         (None, 224, 224, 3)       0         \n",
            "                                                                 \n",
            " conv2d (Conv2D)             (None, 56, 56, 96)        34944     \n",
            "                                                                 \n",
            " lambda (Lambda)             (None, 56, 56, 96)        0         \n",
            "                                                                 \n",
            " activation (Activation)     (None, 56, 56, 96)        0         \n",
            "                                                                 \n",
            " max_pooling2d (MaxPooling2D  (None, 27, 27, 96)       0         \n",
            " )                                                               \n",
            "                                                                 \n",
            " conv2d_1 (Conv2D)           (None, 7, 7, 256)         614656    \n",
            "                                                                 \n",
            " lambda_1 (Lambda)           (None, 7, 7, 256)         0         \n",
            "                                                                 \n",
            " activation_1 (Activation)   (None, 7, 7, 256)         0         \n",
            "                                                                 \n",
            " max_pooling2d_1 (MaxPooling  (None, 3, 3, 256)        0         \n",
            " 2D)                                                             \n",
            "                                                                 \n",
            " conv2d_2 (Conv2D)           (None, 1, 1, 384)         885120    \n",
            "                                                                 \n",
            " activation_2 (Activation)   (None, 1, 1, 384)         0         \n",
            "                                                                 \n",
            " conv2d_3 (Conv2D)           (None, 1, 1, 384)         1327488   \n",
            "                                                                 \n",
            " activation_3 (Activation)   (None, 1, 1, 384)         0         \n",
            "                                                                 \n",
            " conv2d_4 (Conv2D)           (None, 1, 1, 256)         884992    \n",
            "                                                                 \n",
            " activation_4 (Activation)   (None, 1, 1, 256)         0         \n",
            "                                                                 \n",
            " flatten (Flatten)           (None, 256)               0         \n",
            "                                                                 \n",
            " dense (Dense)               (None, 4096)              1052672   \n",
            "                                                                 \n",
            " dropout (Dropout)           (None, 4096)              0         \n",
            "                                                                 \n",
            " dense_1 (Dense)             (None, 4096)              16781312  \n",
            "                                                                 \n",
            " dropout_1 (Dropout)         (None, 4096)              0         \n",
            "                                                                 \n",
            " dense_2 (Dense)             (None, 10)                40970     \n",
            "                                                                 \n",
            "=================================================================\n",
            "Total params: 21,622,154\n",
            "Trainable params: 21,622,154\n",
            "Non-trainable params: 0\n",
            "_________________________________________________________________\n"
          ]
        }
      ],
      "source": [
        "model = tf.keras.models.load_model('models/alexnet.h5', compile=False)\n",
        "model.summary()"
      ]
    },
    {
      "cell_type": "code",
      "execution_count": 11,
      "metadata": {
        "colab": {
          "base_uri": "https://localhost:8080/",
          "height": 317
        },
        "id": "Se7UqzdjFCsh",
        "outputId": "1024e189-1713-43bd-a230-47571ee69103"
      },
      "outputs": [
        {
          "name": "stdout",
          "output_type": "stream",
          "text": [
            "Keras model archive loading:\n",
            "File Name                                             Modified             Size\n",
            "config.json                                    2022-12-25 05:40:14        15294\n",
            "metadata.json                                  2022-12-25 05:40:14           64\n",
            "variables.h5                                   2022-12-25 05:40:16    259535376\n",
            "Keras weights file (<HDF5 file \"variables.h5\" (mode r)>) loading:\n",
            "...layers\n",
            "......activation\n",
            ".........vars\n",
            "......activation_1\n",
            ".........vars\n",
            "......activation_2\n",
            ".........vars\n",
            "......activation_3\n",
            ".........vars\n",
            "......activation_4\n",
            ".........vars\n",
            "......conv2d\n",
            ".........vars\n",
            "............0\n",
            "............1\n",
            "......conv2d_1\n",
            ".........vars\n",
            "............0\n",
            "............1\n",
            "......conv2d_2\n",
            ".........vars\n",
            "............0\n",
            "............1\n",
            "......conv2d_3\n",
            ".........vars\n",
            "............0\n",
            "............1\n",
            "......conv2d_4\n",
            ".........vars\n",
            "............0\n",
            "............1\n",
            "......dense\n",
            ".........vars\n",
            "............0\n",
            "............1\n",
            "......dense_1\n",
            ".........vars\n",
            "............0\n",
            "............1\n",
            "......dense_2\n",
            ".........vars\n",
            "............0\n",
            "............1\n",
            "......dropout\n",
            ".........vars\n",
            "......dropout_1\n",
            ".........vars\n",
            "......flatten\n",
            ".........vars\n",
            "......lambda\n",
            ".........vars\n",
            "......lambda_1\n",
            ".........vars\n",
            "......max_pooling2d\n",
            ".........vars\n",
            "......max_pooling2d_1\n",
            ".........vars\n",
            "......resizing\n",
            ".........vars\n",
            "...metrics\n",
            "......mean\n",
            ".........vars\n",
            "............0\n",
            "............1\n",
            "......mean_metric_wrapper\n",
            ".........vars\n",
            "............0\n",
            "............1\n",
            "...optimizer\n",
            "......vars\n",
            ".........0\n",
            ".........1\n",
            ".........10\n",
            ".........11\n",
            ".........12\n",
            ".........13\n",
            ".........14\n",
            ".........15\n",
            ".........16\n",
            ".........17\n",
            ".........18\n",
            ".........19\n",
            ".........2\n",
            ".........20\n",
            ".........21\n",
            ".........22\n",
            ".........23\n",
            ".........24\n",
            ".........25\n",
            ".........26\n",
            ".........27\n",
            ".........28\n",
            ".........29\n",
            ".........3\n",
            ".........30\n",
            ".........31\n",
            ".........32\n",
            ".........4\n",
            ".........5\n",
            ".........6\n",
            ".........7\n",
            ".........8\n",
            ".........9\n",
            "...vars\n"
          ]
        }
      ],
      "source": [
        "history = pd.read_pickle('history/alexnet.pickle')"
      ]
    },
    {
      "cell_type": "markdown",
      "metadata": {
        "id": "bbyKujKQ_6l6"
      },
      "source": [
        "## Step 1.4: Evaluate and save model.\n",
        "\n"
      ]
    },
    {
      "cell_type": "code",
      "execution_count": 13,
      "metadata": {
        "id": "13310wUN_pxA"
      },
      "outputs": [
        {
          "name": "stdout",
          "output_type": "stream",
          "text": [
            "313/313 [==============================] - 27s 85ms/step - loss: 0.0870 - accuracy: 0.9898\n"
          ]
        }
      ],
      "source": [
        "# Evaluate\n",
        "model.compile(optimizer='adam', loss=losses.sparse_categorical_crossentropy, metrics=['accuracy'])\n",
        "test = model.evaluate(x_test, y_test)"
      ]
    },
    {
      "cell_type": "code",
      "execution_count": null,
      "metadata": {
        "id": "x77cEyDX_ySV"
      },
      "outputs": [],
      "source": [
        "# # Save model\n",
        "# model_name = \"alexnet.h5\"\n",
        "# model.save(model_name)\n",
        "\n",
        "# # Save history\n",
        "# with open('alexnet.pickle', 'wb') as f:\n",
        "#     pickle.dump(history, f)"
      ]
    },
    {
      "cell_type": "markdown",
      "metadata": {
        "id": "IfJKr9JI8AWr"
      },
      "source": [
        "# Step 2: Plot learning curves (loss, validation loss)"
      ]
    },
    {
      "cell_type": "code",
      "execution_count": 14,
      "metadata": {
        "id": "EnWXpnt8_ndU"
      },
      "outputs": [
        {
          "data": {
            "image/png": "[encoded data removed]",
            "text/plain": [
              "<Figure size 800x500 with 1 Axes>"
            ]
          },
          "metadata": {},
          "output_type": "display_data"
        }
      ],
      "source": [
        "pd.DataFrame(history.history).plot(figsize=(8, 5))\n",
        "plt.grid(True)\n",
        "plt.gca().set_ylim(0, 1)\n",
        "plt.show()"
      ]
    },
    {
      "cell_type": "markdown",
      "metadata": {
        "id": "y3YBuFg78JeM"
      },
      "source": [
        "# Step 3: Report the error in the test set"
      ]
    },
    {
      "cell_type": "code",
      "execution_count": 15,
      "metadata": {
        "id": "MJ7XG_ft7rVr"
      },
      "outputs": [
        {
          "name": "stdout",
          "output_type": "stream",
          "text": [
            "Accuracy of the test set is 98.98%\n",
            "Error of the test set is 8.7009%\n"
          ]
        }
      ],
      "source": [
        "get_percentage_str = lambda x: str(round(x*100,4))\n",
        "print(\"Accuracy of the test set is {}%\".format(get_percentage_str(test[1])))\n",
        "print(\"Error of the test set is {}%\".format(get_percentage_str(test[0])))"
      ]
    }
  ],
  "metadata": {
    "colab": {
      "provenance": []
    },
    "kernelspec": {
      "display_name": "Python 3",
      "language": "python",
      "name": "python3"
    },
    "language_info": {
      "codemirror_mode": {
        "name": "ipython",
        "version": 3
      },
      "file_extension": ".py",
      "mimetype": "text/x-python",
      "name": "python",
      "nbconvert_exporter": "python",
      "pygments_lexer": "ipython3",
      "version": "3.8.10"
    },
    "vscode": {
      "interpreter": {
        "hash": "31f2aee4e71d21fbe5cf8b01ff0e069b9275f58929596ceb00d14d90e3e16cd6"
      }
    }
  },
  "nbformat": 4,
  "nbformat_minor": 0
}
